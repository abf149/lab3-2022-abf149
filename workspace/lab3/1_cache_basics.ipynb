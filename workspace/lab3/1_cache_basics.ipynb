{
 "cells": [
  {
   "cell_type": "markdown",
   "id": "solved-combat",
   "metadata": {},
   "source": [
    "## Name: "
   ]
  },
  {
   "cell_type": "code",
   "execution_count": null,
   "id": "owned-workplace",
   "metadata": {},
   "outputs": [],
   "source": [
    "from copy import deepcopy\n",
    "import random\n",
    "import numpy as np\n",
    "\n",
    "from cache import Cache, CacheAssoc"
   ]
  },
  {
   "cell_type": "markdown",
   "id": "arranged-strand",
   "metadata": {},
   "source": [
    "## Matrix Multiplication and Memory Access Pattern\n",
    "\n",
    "We will cheeck the memory access pattern for matrix multiplication. Consider this matrix multiplication:\n",
    "\n",
    "$$\n",
    "C_{m,n} = \\sum_k A_{m,k} \\times B_{k,n}\n",
    "$$\n",
    "\n",
    "Suppose our processor doesn't have a cache and directly loads operands from the main memory and stores the results back to the main memory. We want to count how many memory accesses are necessary to complete the computation, and estimate how much energy will be consumed for the memory access. "
   ]
  },
  {
   "cell_type": "code",
   "execution_count": null,
   "id": "steady-experiment",
   "metadata": {},
   "outputs": [],
   "source": [
    "# Initialize values\n",
    "seed = 10\n",
    "random.seed(seed)\n",
    "\n",
    "M = 4\n",
    "K = 4\n",
    "N = 4\n",
    "\n",
    "# Matrix A (M x N)\n",
    "a_MK = []\n",
    "for m in range(M):\n",
    "    a_MK.append([random.randint(1, 9) for i in range(K)])\n",
    "\n",
    "\n",
    "# Matrix B (K x N)\n",
    "b_KN = []\n",
    "for k in range(K):\n",
    "    b_KN.append([random.randint(1, 9) for i in range(N)])\n",
    "    \n",
    "# print(a_MK)\n",
    "# print(b_KN)\n",
    "\n",
    "# ground truth for the result (M x N)\n",
    "c_MN = []\n",
    "for m in range(M):\n",
    "    temp = []\n",
    "    for n in range(N):\n",
    "        t = 0\n",
    "        for k in range(K):\n",
    "            t += a_MK[m][k] * b_KN[k][n]\n",
    "        temp.append(t)\n",
    "    c_MN.append(temp)\n",
    "# print(c_MN)"
   ]
  },
  {
   "cell_type": "markdown",
   "id": "ethical-chorus",
   "metadata": {},
   "source": [
    "### Question 1\n",
    "\n",
    "How many memory reads are in this loop nest? Break down the number of memory reads for each matrix (A, B, and C).\n",
    "\n",
    "How many memory writes are in this loop nest? Assume there is no register for storing partial sums, and reading and writing intermediate results should also be considered. Break down the number of memory writes for each matrix (A, B, and C).\n",
    "\n",
    "Fill in your answers in the table below:"
   ]
  },
  {
   "cell_type": "markdown",
   "id": "informative-taiwan",
   "metadata": {},
   "source": [
    "|   | A | B | C |\n",
    "| --- | --- | --- | --- |\n",
    "| Read | 0 | 0 | 0 |\n",
    "| Write | 0 | 0 | 0 |\n"
   ]
  },
  {
   "cell_type": "code",
   "execution_count": null,
   "id": "unavailable-morgan",
   "metadata": {},
   "outputs": [],
   "source": [
    "# Loop nest for the matrix multiplication\n",
    "c = np.zeros((M, N))\n",
    "for m in range(M):\n",
    "    for n in range(N):\n",
    "        for k in range(K):\n",
    "            # load a\n",
    "            a = a_MK[m][k]\n",
    "            \n",
    "            # load b\n",
    "            b = b_KN[k][n]\n",
    "            \n",
    "            # compute partial sum\n",
    "            c[m][n] += a * b\n",
    "\n",
    "# Check the result\n",
    "print(np.all(c==np.asarray(c_MN)))"
   ]
  },
  {
   "cell_type": "markdown",
   "id": "spare-entertainment",
   "metadata": {},
   "source": [
    "## Direct Mapped Cache\n",
    "\n",
    "Suppose our processor uses a directed mapped cache. We want to count the number of cache hit and miss for both read and write operations. Assume all data are initially stored in the main memory in __row major__ order. \n",
    "\n",
    "We are using two parameters when defining a cache: `log_size` and `words_per_line`. The total number of __words__ that a cache can store is $2^{log\\_size}$, and the number of words per line (block size) is `words_per_line`. For example, if a cache has `log_size=4`, and `words_per_line=2`, this cache can store total 16 words with block size of 2. We assume that our direct mapped cache uses write-through with no write allocation for store operations. "
   ]
  },
  {
   "cell_type": "code",
   "execution_count": null,
   "id": "dressed-occasion",
   "metadata": {},
   "outputs": [],
   "source": [
    "def read_addr(addr, memory, cache):\n",
    "    val = memory[addr]\n",
    "    cache.load(addr)\n",
    "    return val\n",
    "    \n",
    "def write_addr(addr, memory, cache, val=0):\n",
    "    memory[addr] = val\n",
    "    cache.store(addr)"
   ]
  },
  {
   "cell_type": "markdown",
   "id": "focused-committee",
   "metadata": {},
   "source": [
    "### Question 2\n",
    "\n",
    "Modify the address that the processor has to request for read and write operation in the loop nest."
   ]
  },
  {
   "cell_type": "code",
   "execution_count": null,
   "id": "collect-necklace",
   "metadata": {},
   "outputs": [],
   "source": [
    "# Define a main memory\n",
    "mem_log_size = 10\n",
    "memory = np.zeros(2**mem_log_size).astype(np.int32)\n",
    "memory[:M*K] = np.asarray(a_MK).flatten()\n",
    "memory[M*K:M*K+K*N] = np.asarray(b_KN).flatten()\n",
    "\n",
    "# Define a cache for each matrix (A, B, C)\n",
    "cache_a = Cache(log_size=3, words_per_line=1)\n",
    "cache_b = Cache(log_size=3, words_per_line=1)\n",
    "cache_c = Cache(log_size=3, words_per_line=1)\n",
    "\n",
    "# Loop nest for matrix multiplication\n",
    "for m in range(M):\n",
    "    for n in range(N):\n",
    "        for k in range(K):\n",
    "\n",
    "            # Your code: modify addr_a \n",
    "            addr_a = 0\n",
    "            a = read_addr(addr_a, memory, cache_a)\n",
    "            \n",
    "            # Your code: modify addr_b\n",
    "            addr_b = 0\n",
    "            b = read_addr(addr_b, memory, cache_b)\n",
    "            \n",
    "            # Your code: modify addr_c\n",
    "            addr_c = 0\n",
    "            psum = read_addr(addr_c, memory, cache_c)\n",
    "            \n",
    "            # compute partial sum\n",
    "            psum += a * b\n",
    "            write_addr(addr_c, memory, cache_c, int(psum))\n",
    "\n",
    "# Check the result\n",
    "print(np.all(memory[M*K+K*N:M*K+K*N+M*N].reshape((M, N))==np.asarray(c_MN)))\n",
    "\n",
    "# Print cache statistics\n",
    "print(\"-------Cache A--------\")\n",
    "cache_a.print_stats()\n",
    "print(\"-------Cache B--------\")\n",
    "cache_b.print_stats()\n",
    "print(\"-------Cache C--------\")\n",
    "cache_c.print_stats()"
   ]
  },
  {
   "cell_type": "markdown",
   "id": "moving-michigan",
   "metadata": {},
   "source": [
    "### Question 3\n",
    "\n",
    "Now, run the same loop nest using caches with the same size, but with different words per line (block size). Explain why the statistics for Cache A is different from the previous case."
   ]
  },
  {
   "cell_type": "markdown",
   "id": "ranking-terrace",
   "metadata": {},
   "source": [
    "\n",
    "_your-answer-here_\n",
    "\n"
   ]
  },
  {
   "cell_type": "code",
   "execution_count": null,
   "id": "yellow-israeli",
   "metadata": {},
   "outputs": [],
   "source": [
    "# Define a main memory\n",
    "mem_log_size = 10\n",
    "memory = np.zeros(2**mem_log_size).astype(np.int32)\n",
    "memory[:M*K] = np.asarray(a_MK).flatten()\n",
    "memory[M*K:M*K+K*N] = np.asarray(b_KN).flatten()\n",
    "\n",
    "# Define a cache for each matrix (A, B, C)\n",
    "cache_a = Cache(log_size=3, words_per_line=2)\n",
    "cache_b = Cache(log_size=3, words_per_line=2)\n",
    "cache_c = Cache(log_size=3, words_per_line=2)\n",
    "\n",
    "# Loop nest for matrix multiplication\n",
    "for m in range(M):\n",
    "    for n in range(N):\n",
    "        for k in range(K):\n",
    "\n",
    "            # Your code: modify addr_a \n",
    "            addr_a = 0\n",
    "            a = read_addr(addr_a, memory, cache_a)\n",
    "            \n",
    "            # Your code: modify addr_b\n",
    "            addr_b = 0\n",
    "            b = read_addr(addr_b, memory, cache_b)\n",
    "            \n",
    "            # Your code: modify addr_c\n",
    "            addr_c = 0\n",
    "            psum = read_addr(addr_c, memory, cache_c)\n",
    "            \n",
    "            # compute partial sum\n",
    "            psum += a * b\n",
    "            write_addr(addr_c, memory, cache_c, int(psum))\n",
    "\n",
    "# Check the result\n",
    "print(np.all(memory[M*K+K*N:M*K+K*N+M*N].reshape((M, N))==np.asarray(c_MN)))\n",
    "\n",
    "# Print cache statistics\n",
    "print(\"-------Cache A--------\")\n",
    "cache_a.print_stats()\n",
    "print(\"-------Cache B--------\")\n",
    "cache_b.print_stats()\n",
    "print(\"-------Cache C--------\")\n",
    "cache_c.print_stats()"
   ]
  },
  {
   "cell_type": "markdown",
   "id": "directed-champagne",
   "metadata": {},
   "source": [
    "### Question 4\n",
    "\n",
    "Suppose we store data of Matrix B to the main memory in __column major__ order. Change the address that are requested by the processor, and explain the difference of the statistics for Cache B."
   ]
  },
  {
   "cell_type": "markdown",
   "id": "nonprofit-wednesday",
   "metadata": {},
   "source": [
    "\n",
    "_your-answer-here_\n",
    "\n"
   ]
  },
  {
   "cell_type": "code",
   "execution_count": null,
   "id": "speaking-career",
   "metadata": {
    "scrolled": true
   },
   "outputs": [],
   "source": [
    "mem_log_size = 10\n",
    "memory_col = np.zeros(2**mem_log_size).astype(np.int32)\n",
    "memory_col[:M*K] = np.asarray(a_MK).flatten()\n",
    "memory_col[M*K:M*K+K*N] = np.asarray(b_KN).transpose().flatten()\n",
    "\n",
    "# Define a cache for each matrix (A, B, C)\n",
    "cache_a = Cache(log_size=3, words_per_line=2)\n",
    "cache_b = Cache(log_size=3, words_per_line=2)\n",
    "cache_c = Cache(log_size=3, words_per_line=2)\n",
    "\n",
    "# Loop nest for matrix multiplication\n",
    "for m in range(M):\n",
    "    for n in range(N):\n",
    "        for k in range(K):\n",
    "\n",
    "            # Your code: modify addr_a \n",
    "            addr_a = 0\n",
    "            a = read_addr(addr_a, memory_col, cache_a)\n",
    "            \n",
    "            # Your code: modify addr_b\n",
    "            addr_b = 0\n",
    "            b = read_addr(addr_b, memory_col, cache_b)\n",
    "            \n",
    "            # Your code: modify addr_c\n",
    "            addr_c = 0\n",
    "            psum = read_addr(addr_c, memory_col, cache_c)\n",
    "            \n",
    "            # compute partial sum\n",
    "            psum += a * b\n",
    "            write_addr(addr_c, memory_col, cache_c, int(psum))\n",
    "\n",
    "# Check the result\n",
    "print(np.all(memory_col[M*K+K*N:M*K+K*N+M*N].reshape((M, N))==np.asarray(c_MN)))\n",
    "\n",
    "# Print cache statistics\n",
    "print(\"-------Cache A--------\")\n",
    "cache_a.print_stats()\n",
    "print(\"-------Cache B--------\")\n",
    "cache_b.print_stats()\n",
    "print(\"-------Cache C--------\")\n",
    "cache_c.print_stats()"
   ]
  },
  {
   "cell_type": "markdown",
   "id": "phantom-commodity",
   "metadata": {},
   "source": [
    "### Question 5\n",
    "\n",
    "Suppose our loop nest order is different, from M -> N -> K to K -> N -> M. Assume all conditions are identical to Question 2. Explain cache statistics compared to those in Question 2. "
   ]
  },
  {
   "cell_type": "markdown",
   "id": "fewer-australia",
   "metadata": {},
   "source": [
    "\n",
    "_your-answer-here_\n",
    "\n"
   ]
  },
  {
   "cell_type": "code",
   "execution_count": null,
   "id": "modified-workshop",
   "metadata": {},
   "outputs": [],
   "source": [
    "mem_log_size = 10\n",
    "memory = np.zeros(2**mem_log_size).astype(np.int32)\n",
    "memory[:M*K] = np.asarray(a_MK).flatten()\n",
    "memory[M*K:M*K+K*N] = np.asarray(b_KN).flatten()\n",
    "\n",
    "# Define a cache for each matrix (A, B, C)\n",
    "cache_a = Cache(log_size=3, words_per_line=1)\n",
    "cache_b = Cache(log_size=3, words_per_line=1)\n",
    "cache_c = Cache(log_size=3, words_per_line=1)\n",
    "\n",
    "for k in range(K):\n",
    "    for n in range(N):\n",
    "        for m in range(M):\n",
    "            # Your code: modify addr_a \n",
    "            addr_a = 0\n",
    "            a = read_addr(addr_a, memory, cache_a)\n",
    "            \n",
    "            # Your code: modify addr_a \n",
    "            addr_b = 0\n",
    "            b = read_addr(addr_b, memory, cache_b)\n",
    "            \n",
    "            # Your code: modify addr_a \n",
    "            addr_c = 0\n",
    "            psum = read_addr(addr_c, memory, cache_c)\n",
    "\n",
    "            # compute partial sum\n",
    "            psum += a * b\n",
    "            write_addr(addr_c, memory, cache_c, int(psum))\n",
    "\n",
    "\n",
    "# Check the result\n",
    "print(np.all(memory[M*K+K*N:M*K+K*N+M*N].reshape((M, N))==np.asarray(c_MN)))\n",
    "\n",
    "# Print cache statistics\n",
    "print(\"-------Cache A--------\")\n",
    "cache_a.print_stats()\n",
    "print(\"-------Cache B--------\")\n",
    "cache_b.print_stats()\n",
    "print(\"-------Cache C--------\")\n",
    "cache_c.print_stats()"
   ]
  },
  {
   "cell_type": "markdown",
   "id": "agricultural-question",
   "metadata": {},
   "source": [
    "## Set Associative Cache\n",
    "\n",
    "Now, we will consider a set associative cache. This cache has another parameter, `num_ways`, that specifies the number of ways. For example, if `log_size=4`, `words_per_line=2`, and `num_ways=2`, this cache can store total 16 words and there are total 4 sets, where each set has two ways and the block size will be two. Similar to the direct mapped cache we discussed above, our set associative cache uses write-through with no write allocation for store, and uses Bit Psuedo Least Recently Used to replace cache entries. "
   ]
  },
  {
   "cell_type": "markdown",
   "id": "simple-marine",
   "metadata": {},
   "source": [
    "### Question 6\n",
    "\n",
    "Let's run the same loop nest as in Question 2, except for that we use one large cache instead of using three different caches for each matrix. Note that we are still using a direct mapped cache here. Explain the difference in the total cache hit and miss ratio, compared to Question 2. "
   ]
  },
  {
   "cell_type": "markdown",
   "id": "specified-marsh",
   "metadata": {},
   "source": [
    "\n",
    "_your-answer-here_\n",
    "\n"
   ]
  },
  {
   "cell_type": "code",
   "execution_count": null,
   "id": "hundred-rings",
   "metadata": {},
   "outputs": [],
   "source": [
    "# Define a main memory\n",
    "mem_log_size = 10\n",
    "memory = np.zeros(2**mem_log_size).astype(np.int32)\n",
    "memory[:M*K] = np.asarray(a_MK).flatten()\n",
    "memory[M*K:M*K+K*N] = np.asarray(b_KN).flatten()\n",
    "\n",
    "# Define a cache for each matrix (A, B, C)\n",
    "cache = Cache(log_size=5, words_per_line=2)\n",
    "\n",
    "# Loop nest for matrix multiplication\n",
    "for m in range(M):\n",
    "    for n in range(N):\n",
    "        for k in range(K):\n",
    "\n",
    "            # Your code: modify addr_a \n",
    "            addr_a = 0\n",
    "            a = read_addr(addr_a, memory, cache)\n",
    "            \n",
    "            # Your code: modify addr_b\n",
    "            addr_b = 0\n",
    "            b = read_addr(addr_b, memory, cache)\n",
    "            \n",
    "            # Your code: modify addr_c\n",
    "            addr_c = 0\n",
    "            psum = read_addr(addr_c, memory, cache)\n",
    "            \n",
    "            # compute partial sum\n",
    "            psum += a * b\n",
    "            write_addr(addr_c, memory, cache, int(psum))\n",
    "            \n",
    "            # debug\n",
    "            # print(\"---------------------\")\n",
    "            # print(addr_a, addr_b, addr_c)\n",
    "\n",
    "# Check the result\n",
    "print(np.all(memory[M*K+K*N:M*K+K*N+M*N].reshape((M, N))==np.asarray(c_MN)))\n",
    "\n",
    "# Print cache statistics\n",
    "print(\"-------Cache--------\")\n",
    "cache.print_stats()"
   ]
  },
  {
   "cell_type": "markdown",
   "id": "piano-flood",
   "metadata": {},
   "source": [
    "### Question 7\n",
    "\n",
    "Observe the cache access pattern when we use a set associative cache with 2 ways. Explain the difference compared to Question 6. Generally, in which cases using set associative caches beneficial compared to direct mapped caches? If we use three separate caches for each matrix as before, do set associative caches provide benefits?"
   ]
  },
  {
   "cell_type": "markdown",
   "id": "retired-dietary",
   "metadata": {},
   "source": [
    "\n",
    "_your-answer-here_\n",
    "\n"
   ]
  },
  {
   "cell_type": "code",
   "execution_count": null,
   "id": "acceptable-terrorist",
   "metadata": {},
   "outputs": [],
   "source": [
    "# Define a main memory\n",
    "mem_log_size = 10\n",
    "memory = np.zeros(2**mem_log_size).astype(np.int32)\n",
    "memory[:M*K] = np.asarray(a_MK).flatten()\n",
    "memory[M*K:M*K+K*N] = np.asarray(b_KN).flatten()\n",
    "\n",
    "# Define a cache for each matrix (A, B, C)\n",
    "cache = CacheAssoc(log_size=5, words_per_line=2, num_ways=2)\n",
    "\n",
    "# Loop nest for matrix multiplication\n",
    "for m in range(M):\n",
    "    for n in range(N):\n",
    "        for k in range(K):\n",
    "\n",
    "            # Your code: modify addr_a \n",
    "            addr_a = 0\n",
    "            a = read_addr(addr_a, memory, cache)\n",
    "            \n",
    "            # Your code: modify addr_b\n",
    "            addr_b = 0\n",
    "            b = read_addr(addr_b, memory, cache)\n",
    "            \n",
    "            # Your code: modify addr_c\n",
    "            addr_c = 0\n",
    "            psum = read_addr(addr_c, memory, cache)\n",
    "            \n",
    "            # compute partial sum\n",
    "            psum += a * b\n",
    "            write_addr(addr_c, memory, cache, int(psum))\n",
    "            \n",
    "            # debug\n",
    "            # print(\"---------------------\")\n",
    "            # print(addr_a, addr_b, addr_c)\n",
    "\n",
    "# Check the result\n",
    "print(np.all(memory[M*K+K*N:M*K+K*N+M*N].reshape((M, N))==np.asarray(c_MN)))\n",
    "\n",
    "# Print cache statistics\n",
    "print(\"-------Cache--------\")\n",
    "cache.print_stats()"
   ]
  }
 ],
 "metadata": {
  "kernelspec": {
   "display_name": "Python 3 (ipykernel)",
   "language": "python",
   "name": "python3"
  },
  "language_info": {
   "codemirror_mode": {
    "name": "ipython",
    "version": 3
   },
   "file_extension": ".py",
   "mimetype": "text/x-python",
   "name": "python",
   "nbconvert_exporter": "python",
   "pygments_lexer": "ipython3",
   "version": "3.8.12"
  }
 },
 "nbformat": 4,
 "nbformat_minor": 5
}
